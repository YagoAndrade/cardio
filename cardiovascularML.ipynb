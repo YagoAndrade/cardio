{
  "nbformat": 4,
  "nbformat_minor": 0,
  "metadata": {
    "colab": {
      "name": "cardiovascularML.ipynb",
      "provenance": [],
      "collapsed_sections": [],
      "authorship_tag": "ABX9TyNOqycOgqZcBnQYPBYiPfiO"
    },
    "kernelspec": {
      "name": "python3",
      "display_name": "Python 3"
    }
  },
  "cells": [
    {
      "cell_type": "code",
      "metadata": {
        "id": "Q3h2yYGUXra0"
      },
      "source": [
        "# Descrição: Esse programa classifica se uma pessoa tem uma doença cardiovascular ou não.\r\n"
      ],
      "execution_count": null,
      "outputs": []
    },
    {
      "cell_type": "code",
      "metadata": {
        "id": "5VwIoYeRYJyP"
      },
      "source": [
        "# Importar as bibliotecas que vamos utilizar\r\n",
        "import numpy as np\r\n",
        "import pandas as pd\r\n",
        "import seaborn as sns"
      ],
      "execution_count": null,
      "outputs": []
    },
    {
      "cell_type": "code",
      "metadata": {
        "colab": {
          "resources": {
            "http://localhost:8080/nbextensions/google.colab/files.js": {
              "data": "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",
              "ok": true,
              "headers": [
                [
                  "content-type",
                  "application/javascript"
                ]
              ],
              "status": 200,
              "status_text": "OK"
            }
          },
          "base_uri": "https://localhost:8080/",
          "height": 74
        },
        "id": "95v9gDRvYdBR",
        "outputId": "1d84a4c4-49a6-4faf-b202-cc2ad910d2d9"
      },
      "source": [
        "# Carregar os dados fonte\r\n",
        "from google.colab import files\r\n",
        "uploaded = files.upload()"
      ],
      "execution_count": null,
      "outputs": [
        {
          "output_type": "display_data",
          "data": {
            "text/html": [
              "\n",
              "     <input type=\"file\" id=\"files-0b6e27f5-b699-4b1c-bb14-7c66fc06487a\" name=\"files[]\" multiple disabled\n",
              "        style=\"border:none\" />\n",
              "     <output id=\"result-0b6e27f5-b699-4b1c-bb14-7c66fc06487a\">\n",
              "      Upload widget is only available when the cell has been executed in the\n",
              "      current browser session. Please rerun this cell to enable.\n",
              "      </output>\n",
              "      <script src=\"/nbextensions/google.colab/files.js\"></script> "
            ],
            "text/plain": [
              "<IPython.core.display.HTML object>"
            ]
          },
          "metadata": {
            "tags": []
          }
        },
        {
          "output_type": "stream",
          "text": [
            "Saving processed.data.cleveland.hungarian.csv to processed.data.cleveland.hungarian.csv\n"
          ],
          "name": "stdout"
        }
      ]
    },
    {
      "cell_type": "code",
      "metadata": {
        "colab": {
          "base_uri": "https://localhost:8080/",
          "height": 441
        },
        "id": "OTAFcruQcD1t",
        "outputId": "4522bcda-6dcb-4988-ec22-0cd659a232bb"
      },
      "source": [
        "# Armazenar os dados em variáveis\r\n",
        "df = pd.read_csv('processed.cleveland.pdata.csv')\r\n",
        "\r\n",
        "# Mostrar os dados\r\n",
        "df.head(303)"
      ],
      "execution_count": null,
      "outputs": [
        {
          "output_type": "execute_result",
          "data": {
            "text/html": [
              "<div>\n",
              "<style scoped>\n",
              "    .dataframe tbody tr th:only-of-type {\n",
              "        vertical-align: middle;\n",
              "    }\n",
              "\n",
              "    .dataframe tbody tr th {\n",
              "        vertical-align: top;\n",
              "    }\n",
              "\n",
              "    .dataframe thead th {\n",
              "        text-align: right;\n",
              "    }\n",
              "</style>\n",
              "<table border=\"1\" class=\"dataframe\">\n",
              "  <thead>\n",
              "    <tr style=\"text-align: right;\">\n",
              "      <th></th>\n",
              "      <th>idade</th>\n",
              "      <th>sexo</th>\n",
              "      <th>tipo_dorp</th>\n",
              "      <th>p_sang_estavel</th>\n",
              "      <th>colest_mgpdl</th>\n",
              "      <th>fbs_mq_umdoiszeromd/dl</th>\n",
              "      <th>electrocg</th>\n",
              "      <th>max rit_cardiaco</th>\n",
              "      <th>ex_in_angina</th>\n",
              "      <th>oldpeak</th>\n",
              "      <th>curva</th>\n",
              "      <th>ca</th>\n",
              "      <th>thal</th>\n",
              "      <th>num_diag</th>\n",
              "    </tr>\n",
              "  </thead>\n",
              "  <tbody>\n",
              "    <tr>\n",
              "      <th>0</th>\n",
              "      <td>63</td>\n",
              "      <td>1</td>\n",
              "      <td>1</td>\n",
              "      <td>145</td>\n",
              "      <td>233</td>\n",
              "      <td>1</td>\n",
              "      <td>2</td>\n",
              "      <td>150</td>\n",
              "      <td>0</td>\n",
              "      <td>2.3</td>\n",
              "      <td>3</td>\n",
              "      <td>0</td>\n",
              "      <td>6</td>\n",
              "      <td>0</td>\n",
              "    </tr>\n",
              "    <tr>\n",
              "      <th>1</th>\n",
              "      <td>67</td>\n",
              "      <td>1</td>\n",
              "      <td>4</td>\n",
              "      <td>160</td>\n",
              "      <td>286</td>\n",
              "      <td>0</td>\n",
              "      <td>2</td>\n",
              "      <td>108</td>\n",
              "      <td>1</td>\n",
              "      <td>1.5</td>\n",
              "      <td>2</td>\n",
              "      <td>3</td>\n",
              "      <td>3</td>\n",
              "      <td>1</td>\n",
              "    </tr>\n",
              "    <tr>\n",
              "      <th>2</th>\n",
              "      <td>67</td>\n",
              "      <td>1</td>\n",
              "      <td>4</td>\n",
              "      <td>120</td>\n",
              "      <td>229</td>\n",
              "      <td>0</td>\n",
              "      <td>2</td>\n",
              "      <td>129</td>\n",
              "      <td>1</td>\n",
              "      <td>2.6</td>\n",
              "      <td>2</td>\n",
              "      <td>2</td>\n",
              "      <td>7</td>\n",
              "      <td>1</td>\n",
              "    </tr>\n",
              "    <tr>\n",
              "      <th>3</th>\n",
              "      <td>37</td>\n",
              "      <td>1</td>\n",
              "      <td>3</td>\n",
              "      <td>130</td>\n",
              "      <td>250</td>\n",
              "      <td>0</td>\n",
              "      <td>0</td>\n",
              "      <td>187</td>\n",
              "      <td>0</td>\n",
              "      <td>3.5</td>\n",
              "      <td>3</td>\n",
              "      <td>0</td>\n",
              "      <td>3</td>\n",
              "      <td>0</td>\n",
              "    </tr>\n",
              "    <tr>\n",
              "      <th>4</th>\n",
              "      <td>41</td>\n",
              "      <td>0</td>\n",
              "      <td>2</td>\n",
              "      <td>130</td>\n",
              "      <td>204</td>\n",
              "      <td>0</td>\n",
              "      <td>2</td>\n",
              "      <td>172</td>\n",
              "      <td>0</td>\n",
              "      <td>1.4</td>\n",
              "      <td>1</td>\n",
              "      <td>0</td>\n",
              "      <td>3</td>\n",
              "      <td>0</td>\n",
              "    </tr>\n",
              "    <tr>\n",
              "      <th>...</th>\n",
              "      <td>...</td>\n",
              "      <td>...</td>\n",
              "      <td>...</td>\n",
              "      <td>...</td>\n",
              "      <td>...</td>\n",
              "      <td>...</td>\n",
              "      <td>...</td>\n",
              "      <td>...</td>\n",
              "      <td>...</td>\n",
              "      <td>...</td>\n",
              "      <td>...</td>\n",
              "      <td>...</td>\n",
              "      <td>...</td>\n",
              "      <td>...</td>\n",
              "    </tr>\n",
              "    <tr>\n",
              "      <th>298</th>\n",
              "      <td>45</td>\n",
              "      <td>1</td>\n",
              "      <td>1</td>\n",
              "      <td>110</td>\n",
              "      <td>264</td>\n",
              "      <td>0</td>\n",
              "      <td>0</td>\n",
              "      <td>132</td>\n",
              "      <td>0</td>\n",
              "      <td>1.2</td>\n",
              "      <td>2</td>\n",
              "      <td>0</td>\n",
              "      <td>7</td>\n",
              "      <td>1</td>\n",
              "    </tr>\n",
              "    <tr>\n",
              "      <th>299</th>\n",
              "      <td>68</td>\n",
              "      <td>1</td>\n",
              "      <td>4</td>\n",
              "      <td>144</td>\n",
              "      <td>193</td>\n",
              "      <td>1</td>\n",
              "      <td>0</td>\n",
              "      <td>141</td>\n",
              "      <td>0</td>\n",
              "      <td>3.4</td>\n",
              "      <td>2</td>\n",
              "      <td>2</td>\n",
              "      <td>7</td>\n",
              "      <td>1</td>\n",
              "    </tr>\n",
              "    <tr>\n",
              "      <th>300</th>\n",
              "      <td>57</td>\n",
              "      <td>1</td>\n",
              "      <td>4</td>\n",
              "      <td>130</td>\n",
              "      <td>131</td>\n",
              "      <td>0</td>\n",
              "      <td>0</td>\n",
              "      <td>115</td>\n",
              "      <td>1</td>\n",
              "      <td>1.2</td>\n",
              "      <td>2</td>\n",
              "      <td>1</td>\n",
              "      <td>7</td>\n",
              "      <td>1</td>\n",
              "    </tr>\n",
              "    <tr>\n",
              "      <th>301</th>\n",
              "      <td>57</td>\n",
              "      <td>0</td>\n",
              "      <td>2</td>\n",
              "      <td>130</td>\n",
              "      <td>236</td>\n",
              "      <td>0</td>\n",
              "      <td>2</td>\n",
              "      <td>174</td>\n",
              "      <td>0</td>\n",
              "      <td>0.0</td>\n",
              "      <td>2</td>\n",
              "      <td>1</td>\n",
              "      <td>3</td>\n",
              "      <td>1</td>\n",
              "    </tr>\n",
              "    <tr>\n",
              "      <th>302</th>\n",
              "      <td>38</td>\n",
              "      <td>1</td>\n",
              "      <td>3</td>\n",
              "      <td>138</td>\n",
              "      <td>175</td>\n",
              "      <td>0</td>\n",
              "      <td>0</td>\n",
              "      <td>173</td>\n",
              "      <td>0</td>\n",
              "      <td>0.0</td>\n",
              "      <td>1</td>\n",
              "      <td>?</td>\n",
              "      <td>3</td>\n",
              "      <td>0</td>\n",
              "    </tr>\n",
              "  </tbody>\n",
              "</table>\n",
              "<p>303 rows × 14 columns</p>\n",
              "</div>"
            ],
            "text/plain": [
              "     idade  sexo  tipo_dorp  p_sang_estavel  ...  curva  ca  thal  num_diag\n",
              "0       63     1          1             145  ...      3   0     6         0\n",
              "1       67     1          4             160  ...      2   3     3         1\n",
              "2       67     1          4             120  ...      2   2     7         1\n",
              "3       37     1          3             130  ...      3   0     3         0\n",
              "4       41     0          2             130  ...      1   0     3         0\n",
              "..     ...   ...        ...             ...  ...    ...  ..   ...       ...\n",
              "298     45     1          1             110  ...      2   0     7         1\n",
              "299     68     1          4             144  ...      2   2     7         1\n",
              "300     57     1          4             130  ...      2   1     7         1\n",
              "301     57     0          2             130  ...      2   1     3         1\n",
              "302     38     1          3             138  ...      1   ?     3         0\n",
              "\n",
              "[303 rows x 14 columns]"
            ]
          },
          "metadata": {
            "tags": []
          },
          "execution_count": 313
        }
      ]
    },
    {
      "cell_type": "code",
      "metadata": {
        "colab": {
          "base_uri": "https://localhost:8080/"
        },
        "id": "-fVUT9Q2jMvB",
        "outputId": "ac9ff9e2-d77b-4591-cfef-66bb70452d04"
      },
      "source": [
        "# Pegar o tamanho dos dados\r\n",
        "df.shape"
      ],
      "execution_count": null,
      "outputs": [
        {
          "output_type": "execute_result",
          "data": {
            "text/plain": [
              "(303, 14)"
            ]
          },
          "metadata": {
            "tags": []
          },
          "execution_count": 208
        }
      ]
    },
    {
      "cell_type": "code",
      "metadata": {
        "colab": {
          "base_uri": "https://localhost:8080/"
        },
        "id": "3qtxUce3jVZK",
        "outputId": "bf849f99-3ae0-47b6-f4a0-0fff4701aeaa"
      },
      "source": [
        "# Contar os valores vazios em cada coluna\r\n",
        "df.isna().sum()"
      ],
      "execution_count": null,
      "outputs": [
        {
          "output_type": "execute_result",
          "data": {
            "text/plain": [
              "idade                     0\n",
              "sexo                      0\n",
              "tipo_dorp                 0\n",
              "p_sang_estavel            0\n",
              "colest_mgpdl              0\n",
              "fbs_mq_umdoiszeromd/dl    0\n",
              "electrocg                 0\n",
              "max rit_cardiaco          0\n",
              "ex_in_angina              0\n",
              "oldpeak                   0\n",
              "curva                     0\n",
              "ca                        0\n",
              "thal                      0\n",
              "num_diag                  0\n",
              "dtype: int64"
            ]
          },
          "metadata": {
            "tags": []
          },
          "execution_count": 209
        }
      ]
    },
    {
      "cell_type": "code",
      "metadata": {
        "colab": {
          "base_uri": "https://localhost:8080/"
        },
        "id": "0dDRdf-kjeN5",
        "outputId": "26426a2a-8d72-48e1-9098-228ca08a3242"
      },
      "source": [
        "# Outro meio de checar se há algum valor vazio na base de dados\r\n",
        "df.isnull().values.any()"
      ],
      "execution_count": null,
      "outputs": [
        {
          "output_type": "execute_result",
          "data": {
            "text/plain": [
              "False"
            ]
          },
          "metadata": {
            "tags": []
          },
          "execution_count": 210
        }
      ]
    },
    {
      "cell_type": "code",
      "metadata": {
        "colab": {
          "base_uri": "https://localhost:8080/",
          "height": 338
        },
        "id": "cwBamXs1jsZW",
        "outputId": "311fb950-3337-47c0-ab29-5c08a22ce747"
      },
      "source": [
        "# Ver estatísticas básicas\r\n",
        "df.describe()"
      ],
      "execution_count": null,
      "outputs": [
        {
          "output_type": "execute_result",
          "data": {
            "text/html": [
              "<div>\n",
              "<style scoped>\n",
              "    .dataframe tbody tr th:only-of-type {\n",
              "        vertical-align: middle;\n",
              "    }\n",
              "\n",
              "    .dataframe tbody tr th {\n",
              "        vertical-align: top;\n",
              "    }\n",
              "\n",
              "    .dataframe thead th {\n",
              "        text-align: right;\n",
              "    }\n",
              "</style>\n",
              "<table border=\"1\" class=\"dataframe\">\n",
              "  <thead>\n",
              "    <tr style=\"text-align: right;\">\n",
              "      <th></th>\n",
              "      <th>idade</th>\n",
              "      <th>sexo</th>\n",
              "      <th>tipo_dorp</th>\n",
              "      <th>p_sang_estavel</th>\n",
              "      <th>colest_mgpdl</th>\n",
              "      <th>fbs_mq_umdoiszeromd/dl</th>\n",
              "      <th>electrocg</th>\n",
              "      <th>max rit_cardiaco</th>\n",
              "      <th>ex_in_angina</th>\n",
              "      <th>oldpeak</th>\n",
              "      <th>curva</th>\n",
              "      <th>num_diag</th>\n",
              "    </tr>\n",
              "  </thead>\n",
              "  <tbody>\n",
              "    <tr>\n",
              "      <th>count</th>\n",
              "      <td>303.000000</td>\n",
              "      <td>303.000000</td>\n",
              "      <td>303.000000</td>\n",
              "      <td>303.000000</td>\n",
              "      <td>303.000000</td>\n",
              "      <td>303.000000</td>\n",
              "      <td>303.000000</td>\n",
              "      <td>303.000000</td>\n",
              "      <td>303.000000</td>\n",
              "      <td>303.000000</td>\n",
              "      <td>303.000000</td>\n",
              "      <td>303.000000</td>\n",
              "    </tr>\n",
              "    <tr>\n",
              "      <th>mean</th>\n",
              "      <td>54.438944</td>\n",
              "      <td>0.679868</td>\n",
              "      <td>3.158416</td>\n",
              "      <td>131.689769</td>\n",
              "      <td>246.693069</td>\n",
              "      <td>0.148515</td>\n",
              "      <td>0.990099</td>\n",
              "      <td>149.607261</td>\n",
              "      <td>0.326733</td>\n",
              "      <td>1.039604</td>\n",
              "      <td>1.600660</td>\n",
              "      <td>0.458746</td>\n",
              "    </tr>\n",
              "    <tr>\n",
              "      <th>std</th>\n",
              "      <td>9.038662</td>\n",
              "      <td>0.467299</td>\n",
              "      <td>0.960126</td>\n",
              "      <td>17.599748</td>\n",
              "      <td>51.776918</td>\n",
              "      <td>0.356198</td>\n",
              "      <td>0.994971</td>\n",
              "      <td>22.875003</td>\n",
              "      <td>0.469794</td>\n",
              "      <td>1.161075</td>\n",
              "      <td>0.616226</td>\n",
              "      <td>0.499120</td>\n",
              "    </tr>\n",
              "    <tr>\n",
              "      <th>min</th>\n",
              "      <td>29.000000</td>\n",
              "      <td>0.000000</td>\n",
              "      <td>1.000000</td>\n",
              "      <td>94.000000</td>\n",
              "      <td>126.000000</td>\n",
              "      <td>0.000000</td>\n",
              "      <td>0.000000</td>\n",
              "      <td>71.000000</td>\n",
              "      <td>0.000000</td>\n",
              "      <td>0.000000</td>\n",
              "      <td>1.000000</td>\n",
              "      <td>0.000000</td>\n",
              "    </tr>\n",
              "    <tr>\n",
              "      <th>25%</th>\n",
              "      <td>48.000000</td>\n",
              "      <td>0.000000</td>\n",
              "      <td>3.000000</td>\n",
              "      <td>120.000000</td>\n",
              "      <td>211.000000</td>\n",
              "      <td>0.000000</td>\n",
              "      <td>0.000000</td>\n",
              "      <td>133.500000</td>\n",
              "      <td>0.000000</td>\n",
              "      <td>0.000000</td>\n",
              "      <td>1.000000</td>\n",
              "      <td>0.000000</td>\n",
              "    </tr>\n",
              "    <tr>\n",
              "      <th>50%</th>\n",
              "      <td>56.000000</td>\n",
              "      <td>1.000000</td>\n",
              "      <td>3.000000</td>\n",
              "      <td>130.000000</td>\n",
              "      <td>241.000000</td>\n",
              "      <td>0.000000</td>\n",
              "      <td>1.000000</td>\n",
              "      <td>153.000000</td>\n",
              "      <td>0.000000</td>\n",
              "      <td>0.800000</td>\n",
              "      <td>2.000000</td>\n",
              "      <td>0.000000</td>\n",
              "    </tr>\n",
              "    <tr>\n",
              "      <th>75%</th>\n",
              "      <td>61.000000</td>\n",
              "      <td>1.000000</td>\n",
              "      <td>4.000000</td>\n",
              "      <td>140.000000</td>\n",
              "      <td>275.000000</td>\n",
              "      <td>0.000000</td>\n",
              "      <td>2.000000</td>\n",
              "      <td>166.000000</td>\n",
              "      <td>1.000000</td>\n",
              "      <td>1.600000</td>\n",
              "      <td>2.000000</td>\n",
              "      <td>1.000000</td>\n",
              "    </tr>\n",
              "    <tr>\n",
              "      <th>max</th>\n",
              "      <td>77.000000</td>\n",
              "      <td>1.000000</td>\n",
              "      <td>4.000000</td>\n",
              "      <td>200.000000</td>\n",
              "      <td>564.000000</td>\n",
              "      <td>1.000000</td>\n",
              "      <td>2.000000</td>\n",
              "      <td>202.000000</td>\n",
              "      <td>1.000000</td>\n",
              "      <td>6.200000</td>\n",
              "      <td>3.000000</td>\n",
              "      <td>1.000000</td>\n",
              "    </tr>\n",
              "  </tbody>\n",
              "</table>\n",
              "</div>"
            ],
            "text/plain": [
              "            idade        sexo   tipo_dorp  ...     oldpeak       curva    num_diag\n",
              "count  303.000000  303.000000  303.000000  ...  303.000000  303.000000  303.000000\n",
              "mean    54.438944    0.679868    3.158416  ...    1.039604    1.600660    0.458746\n",
              "std      9.038662    0.467299    0.960126  ...    1.161075    0.616226    0.499120\n",
              "min     29.000000    0.000000    1.000000  ...    0.000000    1.000000    0.000000\n",
              "25%     48.000000    0.000000    3.000000  ...    0.000000    1.000000    0.000000\n",
              "50%     56.000000    1.000000    3.000000  ...    0.800000    2.000000    0.000000\n",
              "75%     61.000000    1.000000    4.000000  ...    1.600000    2.000000    1.000000\n",
              "max     77.000000    1.000000    4.000000  ...    6.200000    3.000000    1.000000\n",
              "\n",
              "[8 rows x 12 columns]"
            ]
          },
          "metadata": {
            "tags": []
          },
          "execution_count": 211
        }
      ]
    },
    {
      "cell_type": "code",
      "metadata": {
        "colab": {
          "base_uri": "https://localhost:8080/"
        },
        "id": "dlMKsv4Ij-mP",
        "outputId": "bee4f3bd-0434-45da-f629-889587cad19f"
      },
      "source": [
        "# Fazer uma contagem com o número de pacientes ou indivíduos com doença(s) cardiovascular(s)\r\n",
        "df['num_diag'].value_counts()"
      ],
      "execution_count": null,
      "outputs": [
        {
          "output_type": "execute_result",
          "data": {
            "text/plain": [
              "0    164\n",
              "1    139\n",
              "Name: num_diag, dtype: int64"
            ]
          },
          "metadata": {
            "tags": []
          },
          "execution_count": 212
        }
      ]
    },
    {
      "cell_type": "code",
      "metadata": {
        "colab": {
          "base_uri": "https://localhost:8080/",
          "height": 354
        },
        "id": "0ulFy5IakpbL",
        "outputId": "5b73695c-23d3-4972-eb2b-a907e2de66af"
      },
      "source": [
        "# Visualizar a contagem\r\n",
        "sns.countplot(df['num_diag'])"
      ],
      "execution_count": null,
      "outputs": [
        {
          "output_type": "stream",
          "text": [
            "/usr/local/lib/python3.6/dist-packages/seaborn/_decorators.py:43: FutureWarning: Pass the following variable as a keyword arg: x. From version 0.12, the only valid positional argument will be `data`, and passing other arguments without an explicit keyword will result in an error or misinterpretation.\n",
            "  FutureWarning\n"
          ],
          "name": "stderr"
        },
        {
          "output_type": "execute_result",
          "data": {
            "text/plain": [
              "<matplotlib.axes._subplots.AxesSubplot at 0x7f41c86ce208>"
            ]
          },
          "metadata": {
            "tags": []
          },
          "execution_count": 213
        },
        {
          "output_type": "display_data",
          "data": {
            "image/png": "[encoded data removed]",
            "text/plain": [
              "<Figure size 432x288 with 1 Axes>"
            ]
          },
          "metadata": {
            "tags": [],
            "needs_background": "light"
          }
        }
      ]
    },
    {
      "cell_type": "code",
      "metadata": {
        "colab": {
          "base_uri": "https://localhost:8080/",
          "height": 460
        },
        "id": "R3tvkTLfljwH",
        "outputId": "44331cf0-0773-4bb9-ec4c-7c535c0b3f3e"
      },
      "source": [
        "# Exibir, em gráfico, o número de pessoas de cada idade que possui (em vermelho) e que não possui (em azul) alguma doença cardiovascular.\r\n",
        "import matplotlib.pyplot as plt\r\n",
        "\r\n",
        "# Visualizar a coluna IDADE\r\n",
        "plt.figure(figsize = (20,7))\r\n",
        "sns.countplot(x = 'idade', hue = 'num_diag', data = df, palette = 'colorblind', edgecolor = sns.color_palette('dark', n_colors=1))"
      ],
      "execution_count": null,
      "outputs": [
        {
          "output_type": "execute_result",
          "data": {
            "text/plain": [
              "<matplotlib.axes._subplots.AxesSubplot at 0x7f41c827f6d8>"
            ]
          },
          "metadata": {
            "tags": []
          },
          "execution_count": 307
        },
        {
          "output_type": "display_data",
          "data": {
            "image/png": "[encoded data removed]",
            "text/plain": [
              "<Figure size 1440x504 with 1 Axes>"
            ]
          },
          "metadata": {
            "tags": [],
            "needs_background": "light"
          }
        }
      ]
    },
    {
      "cell_type": "code",
      "metadata": {
        "colab": {
          "base_uri": "https://localhost:8080/",
          "height": 463
        },
        "id": "v0UEi1mqnYrz",
        "outputId": "ef356bbb-41ae-4003-c43d-20815148b29d"
      },
      "source": [
        "# Obter a correlação das colunas\r\n",
        "df.corr()"
      ],
      "execution_count": null,
      "outputs": [
        {
          "output_type": "execute_result",
          "data": {
            "text/html": [
              "<div>\n",
              "<style scoped>\n",
              "    .dataframe tbody tr th:only-of-type {\n",
              "        vertical-align: middle;\n",
              "    }\n",
              "\n",
              "    .dataframe tbody tr th {\n",
              "        vertical-align: top;\n",
              "    }\n",
              "\n",
              "    .dataframe thead th {\n",
              "        text-align: right;\n",
              "    }\n",
              "</style>\n",
              "<table border=\"1\" class=\"dataframe\">\n",
              "  <thead>\n",
              "    <tr style=\"text-align: right;\">\n",
              "      <th></th>\n",
              "      <th>idade</th>\n",
              "      <th>sexo</th>\n",
              "      <th>tipo_dorp</th>\n",
              "      <th>p_sang_estavel</th>\n",
              "      <th>colest_mgpdl</th>\n",
              "      <th>fbs_mq_umdoiszeromd/dl</th>\n",
              "      <th>electrocg</th>\n",
              "      <th>max rit_cardiaco</th>\n",
              "      <th>ex_in_angina</th>\n",
              "      <th>oldpeak</th>\n",
              "      <th>curva</th>\n",
              "      <th>num_diag</th>\n",
              "    </tr>\n",
              "  </thead>\n",
              "  <tbody>\n",
              "    <tr>\n",
              "      <th>idade</th>\n",
              "      <td>1.000000</td>\n",
              "      <td>-0.097542</td>\n",
              "      <td>0.104139</td>\n",
              "      <td>0.284946</td>\n",
              "      <td>0.208950</td>\n",
              "      <td>0.118530</td>\n",
              "      <td>0.148868</td>\n",
              "      <td>-0.393806</td>\n",
              "      <td>0.091661</td>\n",
              "      <td>0.203805</td>\n",
              "      <td>0.161770</td>\n",
              "      <td>0.223120</td>\n",
              "    </tr>\n",
              "    <tr>\n",
              "      <th>sexo</th>\n",
              "      <td>-0.097542</td>\n",
              "      <td>1.000000</td>\n",
              "      <td>0.010084</td>\n",
              "      <td>-0.064456</td>\n",
              "      <td>-0.199915</td>\n",
              "      <td>0.047862</td>\n",
              "      <td>0.021647</td>\n",
              "      <td>-0.048663</td>\n",
              "      <td>0.146201</td>\n",
              "      <td>0.102173</td>\n",
              "      <td>0.037533</td>\n",
              "      <td>0.276816</td>\n",
              "    </tr>\n",
              "    <tr>\n",
              "      <th>tipo_dorp</th>\n",
              "      <td>0.104139</td>\n",
              "      <td>0.010084</td>\n",
              "      <td>1.000000</td>\n",
              "      <td>-0.036077</td>\n",
              "      <td>0.072319</td>\n",
              "      <td>-0.039975</td>\n",
              "      <td>0.067505</td>\n",
              "      <td>-0.334422</td>\n",
              "      <td>0.384060</td>\n",
              "      <td>0.202277</td>\n",
              "      <td>0.152050</td>\n",
              "      <td>0.414446</td>\n",
              "    </tr>\n",
              "    <tr>\n",
              "      <th>p_sang_estavel</th>\n",
              "      <td>0.284946</td>\n",
              "      <td>-0.064456</td>\n",
              "      <td>-0.036077</td>\n",
              "      <td>1.000000</td>\n",
              "      <td>0.130120</td>\n",
              "      <td>0.175340</td>\n",
              "      <td>0.146560</td>\n",
              "      <td>-0.045351</td>\n",
              "      <td>0.064762</td>\n",
              "      <td>0.189171</td>\n",
              "      <td>0.117382</td>\n",
              "      <td>0.150825</td>\n",
              "    </tr>\n",
              "    <tr>\n",
              "      <th>colest_mgpdl</th>\n",
              "      <td>0.208950</td>\n",
              "      <td>-0.199915</td>\n",
              "      <td>0.072319</td>\n",
              "      <td>0.130120</td>\n",
              "      <td>1.000000</td>\n",
              "      <td>0.009841</td>\n",
              "      <td>0.171043</td>\n",
              "      <td>-0.003432</td>\n",
              "      <td>0.061310</td>\n",
              "      <td>0.046564</td>\n",
              "      <td>-0.004062</td>\n",
              "      <td>0.085164</td>\n",
              "    </tr>\n",
              "    <tr>\n",
              "      <th>fbs_mq_umdoiszeromd/dl</th>\n",
              "      <td>0.118530</td>\n",
              "      <td>0.047862</td>\n",
              "      <td>-0.039975</td>\n",
              "      <td>0.175340</td>\n",
              "      <td>0.009841</td>\n",
              "      <td>1.000000</td>\n",
              "      <td>0.069564</td>\n",
              "      <td>-0.007854</td>\n",
              "      <td>0.025665</td>\n",
              "      <td>0.005747</td>\n",
              "      <td>0.059894</td>\n",
              "      <td>0.025264</td>\n",
              "    </tr>\n",
              "    <tr>\n",
              "      <th>electrocg</th>\n",
              "      <td>0.148868</td>\n",
              "      <td>0.021647</td>\n",
              "      <td>0.067505</td>\n",
              "      <td>0.146560</td>\n",
              "      <td>0.171043</td>\n",
              "      <td>0.069564</td>\n",
              "      <td>1.000000</td>\n",
              "      <td>-0.083389</td>\n",
              "      <td>0.084867</td>\n",
              "      <td>0.114133</td>\n",
              "      <td>0.133946</td>\n",
              "      <td>0.169202</td>\n",
              "    </tr>\n",
              "    <tr>\n",
              "      <th>max rit_cardiaco</th>\n",
              "      <td>-0.393806</td>\n",
              "      <td>-0.048663</td>\n",
              "      <td>-0.334422</td>\n",
              "      <td>-0.045351</td>\n",
              "      <td>-0.003432</td>\n",
              "      <td>-0.007854</td>\n",
              "      <td>-0.083389</td>\n",
              "      <td>1.000000</td>\n",
              "      <td>-0.378103</td>\n",
              "      <td>-0.343085</td>\n",
              "      <td>-0.385601</td>\n",
              "      <td>-0.417167</td>\n",
              "    </tr>\n",
              "    <tr>\n",
              "      <th>ex_in_angina</th>\n",
              "      <td>0.091661</td>\n",
              "      <td>0.146201</td>\n",
              "      <td>0.384060</td>\n",
              "      <td>0.064762</td>\n",
              "      <td>0.061310</td>\n",
              "      <td>0.025665</td>\n",
              "      <td>0.084867</td>\n",
              "      <td>-0.378103</td>\n",
              "      <td>1.000000</td>\n",
              "      <td>0.288223</td>\n",
              "      <td>0.257748</td>\n",
              "      <td>0.431894</td>\n",
              "    </tr>\n",
              "    <tr>\n",
              "      <th>oldpeak</th>\n",
              "      <td>0.203805</td>\n",
              "      <td>0.102173</td>\n",
              "      <td>0.202277</td>\n",
              "      <td>0.189171</td>\n",
              "      <td>0.046564</td>\n",
              "      <td>0.005747</td>\n",
              "      <td>0.114133</td>\n",
              "      <td>-0.343085</td>\n",
              "      <td>0.288223</td>\n",
              "      <td>1.000000</td>\n",
              "      <td>0.577537</td>\n",
              "      <td>0.424510</td>\n",
              "    </tr>\n",
              "    <tr>\n",
              "      <th>curva</th>\n",
              "      <td>0.161770</td>\n",
              "      <td>0.037533</td>\n",
              "      <td>0.152050</td>\n",
              "      <td>0.117382</td>\n",
              "      <td>-0.004062</td>\n",
              "      <td>0.059894</td>\n",
              "      <td>0.133946</td>\n",
              "      <td>-0.385601</td>\n",
              "      <td>0.257748</td>\n",
              "      <td>0.577537</td>\n",
              "      <td>1.000000</td>\n",
              "      <td>0.339213</td>\n",
              "    </tr>\n",
              "    <tr>\n",
              "      <th>num_diag</th>\n",
              "      <td>0.223120</td>\n",
              "      <td>0.276816</td>\n",
              "      <td>0.414446</td>\n",
              "      <td>0.150825</td>\n",
              "      <td>0.085164</td>\n",
              "      <td>0.025264</td>\n",
              "      <td>0.169202</td>\n",
              "      <td>-0.417167</td>\n",
              "      <td>0.431894</td>\n",
              "      <td>0.424510</td>\n",
              "      <td>0.339213</td>\n",
              "      <td>1.000000</td>\n",
              "    </tr>\n",
              "  </tbody>\n",
              "</table>\n",
              "</div>"
            ],
            "text/plain": [
              "                           idade      sexo  ...     curva  num_diag\n",
              "idade                   1.000000 -0.097542  ...  0.161770  0.223120\n",
              "sexo                   -0.097542  1.000000  ...  0.037533  0.276816\n",
              "tipo_dorp               0.104139  0.010084  ...  0.152050  0.414446\n",
              "p_sang_estavel          0.284946 -0.064456  ...  0.117382  0.150825\n",
              "colest_mgpdl            0.208950 -0.199915  ... -0.004062  0.085164\n",
              "fbs_mq_umdoiszeromd/dl  0.118530  0.047862  ...  0.059894  0.025264\n",
              "electrocg               0.148868  0.021647  ...  0.133946  0.169202\n",
              "max rit_cardiaco       -0.393806 -0.048663  ... -0.385601 -0.417167\n",
              "ex_in_angina            0.091661  0.146201  ...  0.257748  0.431894\n",
              "oldpeak                 0.203805  0.102173  ...  0.577537  0.424510\n",
              "curva                   0.161770  0.037533  ...  1.000000  0.339213\n",
              "num_diag                0.223120  0.276816  ...  0.339213  1.000000\n",
              "\n",
              "[12 rows x 12 columns]"
            ]
          },
          "metadata": {
            "tags": []
          },
          "execution_count": 215
        }
      ]
    },
    {
      "cell_type": "code",
      "metadata": {
        "colab": {
          "base_uri": "https://localhost:8080/",
          "height": 731
        },
        "id": "W4f-YZvPnp5n",
        "outputId": "f5ec17f1-ef08-4329-cc02-52a3a859ba60"
      },
      "source": [
        "# Visualizar os dados\r\n",
        "plt.figure(figsize = (10,10))\r\n",
        "sns.heatmap(df.corr(), annot=True, fmt='.0%')"
      ],
      "execution_count": null,
      "outputs": [
        {
          "output_type": "execute_result",
          "data": {
            "text/plain": [
              "<matplotlib.axes._subplots.AxesSubplot at 0x7f41c86ab128>"
            ]
          },
          "metadata": {
            "tags": []
          },
          "execution_count": 216
        },
        {
          "output_type": "display_data",
          "data": {
            "image/png": "[encoded data removed]",
            "text/plain": [
              "<Figure size 720x720 with 2 Axes>"
            ]
          },
          "metadata": {
            "tags": [],
            "needs_background": "light"
          }
        }
      ]
    },
    {
      "cell_type": "code",
      "metadata": {
        "id": "Yb-hpBQeo6df"
      },
      "source": [
        "# Dividir os dados entre dados de recursos e dados alvo\r\n",
        "X = df.iloc[:, :-1].values\r\n",
        "Y = df.iloc[:, -1].values"
      ],
      "execution_count": null,
      "outputs": []
    },
    {
      "cell_type": "code",
      "metadata": {
        "id": "c6UU0L7cpT7n"
      },
      "source": [
        "# Dividir os dados novamente, 75% em dados de treinamento e 25% em dados de teste\r\n",
        "from sklearn.model_selection import train_test_split\r\n",
        "X_train, X_test, Y_train, Y_test = train_test_split(X, Y, test_size= 0.25, random_state=1)\r\n",
        "\r\n",
        "### Identificar e emover as linhas de dados que contenham erros na tradução dos valores ('?') ###\r\n",
        "\r\n",
        "# Obter a quantidade de linhas com '?' em X_train e classificá-las como inválidas '-1' em Y_train\r\n",
        "index_of_xtr = np.where(X_train == '?')\r\n",
        "size_xtr = 1\r\n",
        "\r\n",
        "for dim in np.shape(index_of_xtr):\r\n",
        "  size_xtr *= dim\r\n",
        "\r\n",
        "for i in range(int(size_xtr / 2)):\r\n",
        "  value_index_xtr = index_of_xtr[0][i]\r\n",
        "  Y_train[value_index_xtr] = -1\r\n",
        "\r\n",
        "# Obter a quantidade de linhas com '?' em X_test e classificá-las como inválidas '-1' em Y_test\r\n",
        "index_of_xts = np.where(X_test == '?')\r\n",
        "size_xts = 1\r\n",
        "\r\n",
        "for dop in np.shape(index_of_xts):\r\n",
        "  size_xts *= dop\r\n",
        "\r\n",
        "for j in range(int(size_xts / 2)):\r\n",
        "  value_index_xts = index_of_xts[0][j]\r\n",
        "  Y_test[value_index_xts] = -1\r\n",
        "\r\n",
        "# Remover as linhas que contem '?' em X_train e X_test\r\n",
        "X_train = X_train[(X_train.astype(str) != '?').all(axis=1)]\r\n",
        "X_test = X_test[(X_test.astype(str) != '?').all(axis=1)]\r\n",
        "\r\n",
        "# Remover as linhas inválidas em Y_train e Y_test\r\n",
        "Y_train = Y_train[(Y_train.astype(int) != -1)]\r\n",
        "Y_test = Y_test[(Y_test.astype(int) != -1)]\r\n",
        "\r\n",
        "#np. set_printoptions(threshold=np. inf)"
      ],
      "execution_count": null,
      "outputs": []
    },
    {
      "cell_type": "code",
      "metadata": {
        "id": "R173EeuQpod9"
      },
      "source": [
        "# Feature scaling (escalar os valores nos dados para valores entre 0 e 1 inclusivo)\r\n",
        "from sklearn.preprocessing import StandardScaler\r\n",
        "sc = StandardScaler()\r\n",
        "X_train = sc.fit_transform(X_train)\r\n",
        "X_test = sc.transform(X_test)"
      ],
      "execution_count": null,
      "outputs": []
    },
    {
      "cell_type": "code",
      "metadata": {
        "colab": {
          "base_uri": "https://localhost:8080/"
        },
        "id": "yJR9ZfJ6qJGo",
        "outputId": "28fe8f13-5074-4528-c863-6261cf822049"
      },
      "source": [
        "# Usar Random Forest Classifier da biblioteca sklearn\r\n",
        "from sklearn.ensemble import RandomForestClassifier\r\n",
        "\r\n",
        "forest = RandomForestClassifier(n_estimators = 10, criterion = 'entropy', random_state = 1)\r\n",
        "forest.fit(X_train, Y_train)"
      ],
      "execution_count": null,
      "outputs": [
        {
          "output_type": "execute_result",
          "data": {
            "text/plain": [
              "RandomForestClassifier(bootstrap=True, ccp_alpha=0.0, class_weight=None,\n",
              "                       criterion='entropy', max_depth=None, max_features='auto',\n",
              "                       max_leaf_nodes=None, max_samples=None,\n",
              "                       min_impurity_decrease=0.0, min_impurity_split=None,\n",
              "                       min_samples_leaf=1, min_samples_split=2,\n",
              "                       min_weight_fraction_leaf=0.0, n_estimators=10,\n",
              "                       n_jobs=None, oob_score=False, random_state=1, verbose=0,\n",
              "                       warm_start=False)"
            ]
          },
          "metadata": {
            "tags": []
          },
          "execution_count": 300
        }
      ]
    },
    {
      "cell_type": "code",
      "metadata": {
        "colab": {
          "base_uri": "https://localhost:8080/"
        },
        "id": "sWcbdWhP7WTE",
        "outputId": "7d0e1e3b-783d-4b11-8705-42c147ead15b"
      },
      "source": [
        "# Testar a precisão do modelo nos dados de treinamento\r\n",
        "model = forest\r\n",
        "model.score(X_train, Y_train)"
      ],
      "execution_count": null,
      "outputs": [
        {
          "output_type": "execute_result",
          "data": {
            "text/plain": [
              "0.9910313901345291"
            ]
          },
          "metadata": {
            "tags": []
          },
          "execution_count": 301
        }
      ]
    },
    {
      "cell_type": "code",
      "metadata": {
        "colab": {
          "base_uri": "https://localhost:8080/"
        },
        "id": "xcRsvQIZ72nI",
        "outputId": "742ecdef-2c2d-43d4-e33a-17fead74ecc4"
      },
      "source": [
        "# Testar a precisão do modelo nos dados de teste\r\n",
        "from sklearn.metrics import confusion_matrix\r\n",
        "\r\n",
        "cm = confusion_matrix(Y_test, model.predict(X_test))\r\n",
        "true_negative = cm[0][0]\r\n",
        "true_positive = cm[1][1]\r\n",
        "false_negative = cm[1][0]\r\n",
        "false_positive = cm[0][1]\r\n",
        "\r\n",
        "# Printar os valores do confusion_matrix\r\n",
        "print(cm)\r\n",
        "\r\n",
        "# Printar a precisão nos dados de teste\r\n",
        "print('Precisão nos dados de teste: {}'.format((true_positive + true_negative) / (true_positive + true_negative + false_positive + false_negative)))"
      ],
      "execution_count": null,
      "outputs": [
        {
          "output_type": "stream",
          "text": [
            "[[34  5]\n",
            " [11 24]]\n",
            "Precisão nos dados de teste: 0.7837837837837838\n"
          ],
          "name": "stdout"
        }
      ]
    }
  ]
}